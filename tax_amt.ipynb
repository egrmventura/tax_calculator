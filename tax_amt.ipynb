{
 "cells": [
  {
   "cell_type": "code",
   "execution_count": null,
   "metadata": {},
   "outputs": [],
   "source": [
    "fedtaxDict = [\n",
    "    [0.1, [11000, 11000, 15700, 22000]],\n",
    "    [0.12, [44725, 44725, 59850, 89450]],\n",
    "    [0.22, [95375, 95375, 95350, 190750]],\n",
    "    [0.24, [182100, 182100, 182100, 364200]],\n",
    "    [0.32, [231250, 231250, 231250, 462500]],\n",
    "    [0.35, [578125, 346875, 578100, 693750]]\n",
    "]\n",
    "tr = 0\n",
    "grp = 3\n",
    "\n",
    "def fed_tax_list(income, tr, grp, amt_due=0):    \n",
    "    if tr > 5: \n",
    "        amt_due += (0.37 * income)\n",
    "        return amt_due\n",
    "    prevCutoff = 0 if tr == 0 else fedtaxDict[tr-1][1][grp]\n",
    "    cutoff = fedtaxDict[tr][1][grp] - prevCutoff\n",
    "    tax_rate = fedtaxDict[tr][0]\n",
    "    taxable_income = income if income <= cutoff else cutoff\n",
    "    amt_due += (tax_rate * taxable_income)\n",
    "    income -= taxable_income\n",
    "    if income > 0:\n",
    "        tr += 1\n",
    "        return fed_tax_list(income, tr, grp, amt_due)\n",
    "    return amt_due\n"
   ]
  }
 ],
 "metadata": {
  "language_info": {
   "name": "python"
  }
 },
 "nbformat": 4,
 "nbformat_minor": 2
}
