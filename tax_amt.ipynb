{
 "cells": [
  {
   "cell_type": "code",
   "execution_count": 2,
   "metadata": {},
   "outputs": [],
   "source": [
    "fedtaxDict = [\n",
    "    [0.1, [11000, 11000, 15700, 22000]],\n",
    "    [0.12, [44725, 44725, 59850, 89450]],\n",
    "    [0.22, [95375, 95375, 95350, 190750]],\n",
    "    [0.24, [182100, 182100, 182100, 364200]],\n",
    "    [0.32, [231250, 231250, 231250, 462500]],\n",
    "    [0.35, [578125, 346875, 578100, 693750]]\n",
    "] #\n",
    "tr = 0\n",
    "grp = 3\n",
    "\n",
    "def fed_tax_due(income=0, tr=0, grp=0, amt_due=0):    \n",
    "    if tr > 6 or grp > 3:\n",
    "        print(\"Error: tax rate index or group id is too large.\")\n",
    "        return\n",
    "    if tr > 5: \n",
    "        amt_due += (0.37 * income)\n",
    "        return amt_due\n",
    "    prevCutoff = 0 if tr == 0 else fedtaxDict[tr-1][1][grp]\n",
    "    cutoff = fedtaxDict[tr][1][grp] - prevCutoff\n",
    "    tax_rate = fedtaxDict[tr][0]\n",
    "    taxable_income = income if income <= cutoff else cutoff\n",
    "    amt_due += (tax_rate * taxable_income)\n",
    "    income -= taxable_income\n",
    "    if income > 0:\n",
    "        tr += 1\n",
    "        return fed_tax_list(income, tr, grp, amt_due)\n",
    "    return amt_due\n",
    "\n",
    "def fed_tax_percentage():\n",
    "    income = input(\"Enter your income (USD): $\")\n",
    "    print(income)\n",
    "    print(f\"Your income is ${income} per year.\")\n",
    "\n"
   ]
  },
  {
   "cell_type": "code",
   "execution_count": 3,
   "metadata": {},
   "outputs": [],
   "source": []
  },
  {
   "cell_type": "code",
   "execution_count": 14,
   "metadata": {},
   "outputs": [
    {
     "name": "stdout",
     "output_type": "stream",
     "text": [
      "6985.0\n"
     ]
    }
   ],
   "source": []
  },
  {
   "cell_type": "code",
   "execution_count": 17,
   "metadata": {},
   "outputs": [
    {
     "name": "stdout",
     "output_type": "stream",
     "text": [
      "67993.40000000001\n"
     ]
    }
   ],
   "source": []
  },
  {
   "cell_type": "code",
   "execution_count": 18,
   "metadata": {},
   "outputs": [
    {
     "name": "stdout",
     "output_type": "stream",
     "text": [
      "5885.47\n"
     ]
    }
   ],
   "source": []
  },
  {
   "cell_type": "code",
   "execution_count": 19,
   "metadata": {},
   "outputs": [
    {
     "name": "stdout",
     "output_type": "stream",
     "text": [
      "48216.05\n"
     ]
    }
   ],
   "source": []
  }
 ],
 "metadata": {
  "kernelspec": {
   "display_name": "Python 3",
   "language": "python",
   "name": "python3"
  },
  "language_info": {
   "codemirror_mode": {
    "name": "ipython",
    "version": 3
   },
   "file_extension": ".py",
   "mimetype": "text/x-python",
   "name": "python",
   "nbconvert_exporter": "python",
   "pygments_lexer": "ipython3",
   "version": "3.13.0a3"
  }
 },
 "nbformat": 4,
 "nbformat_minor": 2
}
